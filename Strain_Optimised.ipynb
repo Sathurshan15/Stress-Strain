{
 "cells": [
  {
   "cell_type": "code",
   "execution_count": null,
   "metadata": {},
   "outputs": [],
   "source": [
    "import numpy as np\n",
    "import pandas as pd\n",
    "from sklearn.metrics import mean_squared_error\n",
    "from bayes_opt import BayesianOptimization\n",
    "import matplotlib.pyplot as plt\n",
    "\n",
    "# Experimental data\n",
    "data = pd.DataFrame({\n",
    "    'f_cg': [18.8, 18.8, 18.8, 18.8, 18.8, 18.8, 18.8, 18.8, 18.8, 18.8, 18.8, 18.8,\n",
    "             18.8, 18.8, 18.8, 18.8, 18.8, 18.8, 32.5, 32.5, 32.5, 32.5, 32.5, 32.5,\n",
    "             32.5, 32.5, 32.5, 32.5, 32.5, 32.5, 32.5, 32.5, 40.3, 40.3, 40.3, 40.3,\n",
    "             40.3, 40.3, 40.3, 40.3, 40.3, 40.3, 40.3, 40.3, 40.3, 40.3, 40.3, 30.34,\n",
    "             30.34, 21.9, 21.9, 23.2, 23.2, 23.2, 6, 6, 6, 6, 20.4, 20.4, 20.4, 23.9,\n",
    "             23.9, 23.9, 34.7, 34.7, 34.7, 45, 45, 45],\n",
    "    'epsilon_0': [0.002505, 0.002858, 0.002911, 0.002835, 0.003258, 0.003033, 0.003268,\n",
    "                  0.003101, 0.002621, 0.003086, 0.002885, 0.002854, 0.002457, 0.002670,\n",
    "                  0.002418, 0.002417, 0.002537, 0.002606, 0.002855, 0.002882, 0.003104,\n",
    "                  0.002984, 0.003471, 0.003232, 0.003152, 0.003235, 0.003201, 0.003119,\n",
    "                  0.003244, 0.003190, 0.002936, 0.002915, 0.003101, 0.002957, 0.003232,\n",
    "                  0.003345, 0.003490, 0.003594, 0.003828, 0.003842, 0.003694, 0.003664,\n",
    "                  0.003463, 0.003239, 0.003264, 0.003271, 0.003204, 0.003290, 0.003517,\n",
    "                  0.002693, 0.002727, 0.002679, 0.002660, 0.003056, 0.001755, 0.001954,\n",
    "                  0.001925, 0.001751, 0.002885, 0.002950, 0.002885, 0.002906, 0.002952,\n",
    "                  0.002729, 0.003130, 0.002997, 0.003125, 0.003481, 0.003395, 0.003355]\n",
    "})\n",
    "\n",
    "\n",
    "def predicted_epsilon_0(params, f_cg):\n",
    "    A, B = params\n",
    "    return A * (f_cg ** B)\n",
    "\n",
    "\n",
    "def loss_function(A, B):\n",
    "    f_cg = data['f_cg'].values\n",
    "    epsilon_0_exp = data['epsilon_0'].values\n",
    "    epsilon_0_pred = predicted_epsilon_0([A, B], f_cg)\n",
    "    return -np.sqrt(mean_squared_error(epsilon_0_exp, epsilon_0_pred))  \n",
    "\n",
    "\n",
    "pbounds = {'A': (0.0, 0.01), 'B': (0.0, 1.0)}\n",
    "optimizer = BayesianOptimization(f=loss_function, pbounds=pbounds, random_state=42)\n",
    "optimizer.maximize(init_points=10, n_iter=50)\n",
    "\n",
    "best_params = optimizer.max['params']\n",
    "A_opt, B_opt = best_params['A'], best_params['B']\n",
    "\n",
    "f_cg = data['f_cg'].values\n",
    "epsilon_0_exp = data['epsilon_0'].values\n",
    "epsilon_0_pred = predicted_epsilon_0([A_opt, B_opt], f_cg)\n",
    "overall_rmse = np.sqrt(mean_squared_error(epsilon_0_exp, epsilon_0_pred))\n",
    "\n",
    "print(f\"Optimized Parameters:\\n A = {A_opt}, B = {B_opt}\")\n",
    "print(f\"Overall RMSE: {overall_rmse}\")\n"
   ]
  }
 ],
 "metadata": {
  "kernelspec": {
   "display_name": "Python 3",
   "language": "python",
   "name": "python3"
  },
  "language_info": {
   "codemirror_mode": {
    "name": "ipython",
    "version": 3
   },
   "file_extension": ".py",
   "mimetype": "text/x-python",
   "name": "python",
   "nbconvert_exporter": "python",
   "pygments_lexer": "ipython3",
   "version": "3.13.1"
  }
 },
 "nbformat": 4,
 "nbformat_minor": 2
}
